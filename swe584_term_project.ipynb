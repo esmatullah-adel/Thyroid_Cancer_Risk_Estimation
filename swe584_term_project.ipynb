{
 "cells": [
  {
   "cell_type": "markdown",
   "id": "21789ddf-b1d9-46d5-bbb2-f80ab9de9da7",
   "metadata": {},
   "source": [
    "### Importing libraries"
   ]
  },
  {
   "cell_type": "code",
   "execution_count": 43,
   "id": "2c1fd264-60a6-499f-a044-d4ecb80657c4",
   "metadata": {},
   "outputs": [],
   "source": [
    "import pandas as pd"
   ]
  },
  {
   "cell_type": "markdown",
   "id": "728ef844-d612-4fef-a1d5-dc996024dd27",
   "metadata": {},
   "source": [
    "### Reading data set"
   ]
  },
  {
   "cell_type": "code",
   "execution_count": 44,
   "id": "0dc189b0-8de3-4892-bf4e-800fb0c34768",
   "metadata": {},
   "outputs": [],
   "source": [
    "df = pd.read_csv('thyroid_cancer_risk_data.csv')"
   ]
  },
  {
   "cell_type": "markdown",
   "id": "b9385df5-dc55-4897-8f89-1c60245d3bf7",
   "metadata": {},
   "source": [
    "## Cleaning the Data\n",
    "### 1. Duplicate records\n",
    "check for duplicated records if there are any then remove them"
   ]
  },
  {
   "cell_type": "code",
   "execution_count": 45,
   "id": "cca59f91-3ad1-4de4-ae05-70f2c96d3334",
   "metadata": {},
   "outputs": [
    {
     "name": "stdout",
     "output_type": "stream",
     "text": [
      "There are no duplicate records in the dataset.\n"
     ]
    }
   ],
   "source": [
    "duplicates = df[df.duplicated()]\n",
    "\n",
    "if duplicates.empty:\n",
    "    print(\"There are no duplicate records in the dataset.\")\n",
    "else:\n",
    "    df.drop_duplicates(inplace=True)\n",
    "    count = len(duplicates)\n",
    "    if count == 1:\n",
    "        print(\"One duplicate record was removed from the dataset.\")\n",
    "    else:\n",
    "        print(f\"{count} duplicate records were removed from the dataset.\")"
   ]
  },
  {
   "cell_type": "markdown",
   "id": "e8aa1c02-e234-42ac-82c0-e8eb9a8616b0",
   "metadata": {},
   "source": [
    "### 2. Missing Values\n",
    "\n",
    "#### a. Replace Missing Values\n",
    "    \n",
    "##### Median: Replace missing Age values with median if there are any missing values for Age.\n"
   ]
  },
  {
   "cell_type": "code",
   "execution_count": 46,
   "id": "39014db5-6f5f-4478-bc38-4c2cd09b12f5",
   "metadata": {},
   "outputs": [
    {
     "name": "stdout",
     "output_type": "stream",
     "text": [
      "Median for Age attribute is: 52\n",
      "0 missing 'Age' values were filled with the median.\n"
     ]
    }
   ],
   "source": [
    "medianAge = round(df[\"Age\"].median())\n",
    "\n",
    "df.fillna({\"Age\": medianAge}, inplace=True)\n",
    "print(f\"Median for Age attribute is: {medianAge}\")\n",
    "\n",
    "missing_count = df[\"Age\"].isna().sum()\n",
    "print(f\"{missing_count} missing 'Age' values were filled with the median.\")"
   ]
  },
  {
   "cell_type": "markdown",
   "id": "2a1c3d72-a08a-42ef-9a91-50e5f75ddf85",
   "metadata": {},
   "source": [
    "##### Mean: If there are any empty cells for Nodule_Size attribute, then replace it with the mean."
   ]
  },
  {
   "cell_type": "code",
   "execution_count": 47,
   "id": "29347690-2e1a-434a-97b9-6eb2a10c7196",
   "metadata": {},
   "outputs": [
    {
     "name": "stdout",
     "output_type": "stream",
     "text": [
      "Mean for Nodule_Size attribute is: 2.5\n",
      "0 missing 'Nodule_Size' values were filled with the mean.\n"
     ]
    }
   ],
   "source": [
    "meanSize = round(df[\"Nodule_Size\"].mean(), 2)\n",
    "\n",
    "df.fillna({\"Nodule_Size\": meanSize}, inplace=True)\n",
    "print(f\"Mean for Nodule_Size attribute is: {meanSize}\")\n",
    "\n",
    "missing_count = df[\"Nodule_Size\"].isna().sum()\n",
    "print(f\"{missing_count} missing 'Nodule_Size' values were filled with the mean.\")"
   ]
  },
  {
   "cell_type": "markdown",
   "id": "4e5d849d-bbe8-4f52-9424-f56e58fcaf1b",
   "metadata": {},
   "source": [
    "##### Mode: Calculate the MODE for Country, and replace any empty values of the Country column with it"
   ]
  },
  {
   "cell_type": "code",
   "execution_count": 48,
   "id": "05213486-34a2-4a63-b416-c98cab523354",
   "metadata": {},
   "outputs": [
    {
     "name": "stdout",
     "output_type": "stream",
     "text": [
      "Mode for Country attribute is: India\n",
      "0 missing 'Country' values were filled with the mode.\n"
     ]
    }
   ],
   "source": [
    "modeForCountry = df[\"Country\"].mode()[0]\n",
    "\n",
    "df.fillna({\"Country\": modeForCountry}, inplace=True)\n",
    "print(f\"Mode for Country attribute is: {modeForCountry}\")\n",
    "\n",
    "missing_count = df[\"Country\"].isna().sum()\n",
    "print(f\"{missing_count} missing 'Country' values were filled with the mode.\")"
   ]
  },
  {
   "cell_type": "markdown",
   "id": "15a86640-5484-49a3-a223-aa150a3b1c06",
   "metadata": {},
   "source": [
    "#### b. Delete entire record if any Diagnosis values are missing"
   ]
  },
  {
   "cell_type": "code",
   "execution_count": 49,
   "id": "3427de0b-adbb-4ac1-910a-f829eede10b2",
   "metadata": {},
   "outputs": [
    {
     "name": "stdout",
     "output_type": "stream",
     "text": [
      "0 records removed because of missing 'Diagnosis' values.\n"
     ]
    }
   ],
   "source": [
    "df.dropna(subset=['Diagnosis'], inplace = True)\n",
    "\n",
    "missing_count = df[\"Diagnosis\"].isna().sum()\n",
    "print(f\"{missing_count} records removed because of missing 'Diagnosis' values.\")"
   ]
  },
  {
   "cell_type": "markdown",
   "id": "3212b5f9-2d96-4b9f-bc49-00d009f088d0",
   "metadata": {},
   "source": [
    "### 3. Wrong Data\n",
    " #### a. Replace with correct data"
   ]
  },
  {
   "cell_type": "code",
   "execution_count": 50,
   "id": "43016f83-01b2-4541-b2ab-580badfb6c01",
   "metadata": {},
   "outputs": [],
   "source": [
    "for x in df.index:\n",
    "  if df.loc[x, \"Age\"] > 100:\n",
    "    df.loc[x, \"Age\"] = 100"
   ]
  },
  {
   "cell_type": "markdown",
   "id": "fa0cd325-5077-4464-8c67-e7993ca78eca",
   "metadata": {},
   "source": [
    "#### b. Remove record which has wrong data"
   ]
  },
  {
   "cell_type": "code",
   "execution_count": 51,
   "id": "5bc8b7e8-df0b-428c-8362-56a898a37465",
   "metadata": {},
   "outputs": [],
   "source": [
    "for x in df.index:\n",
    "  if df.loc[x, \"Nodule_Size\"] > 20:\n",
    "    df.drop(x, inplace = True)"
   ]
  }
 ],
 "metadata": {
  "kernelspec": {
   "display_name": "Python 3 (ipykernel)",
   "language": "python",
   "name": "python3"
  },
  "language_info": {
   "codemirror_mode": {
    "name": "ipython",
    "version": 3
   },
   "file_extension": ".py",
   "mimetype": "text/x-python",
   "name": "python",
   "nbconvert_exporter": "python",
   "pygments_lexer": "ipython3",
   "version": "3.12.0"
  }
 },
 "nbformat": 4,
 "nbformat_minor": 5
}
