{
 "cells": [
  {
   "cell_type": "markdown",
   "id": "f973815c-9a7e-45fa-9a38-702174576738",
   "metadata": {},
   "source": [
    "# Thyroid Cancer Risk Estimation\n",
    "\n",
    "## Problem Definition\n",
    "Thyroid cancer is one of the most common cancers affecting the endocrine system, and early detection plays a critical role in improving patient outcomes. The goal of this project is to predict the risk of thyroid cancer in individuals based on various demographic, lifestyle, and medical factors. By analyzing the dataset, we aim to identify key factors that contribute to the development of thyroid cancer and to build a model that can estimate the risk level of thyroid cancer in new patients.\n",
    "\n",
    "The specific problem we are addressing is:\n",
    "\n",
    "### Problem Statement:\n",
    "Given a set of medical and demographic features, how can we predict whether a person is at risk of developing thyroid cancer and quantify their risk level (e.g., high, medium, or low)?\n",
    "\n",
    "The dataset provided contains various factors such as age, gender, medical history, and thyroid-related lab results that may be used to estimate the likelihood of developing thyroid cancer.\n",
    "\n",
    "## Proposed Solution Methods\n",
    "Since Thyroid Cancer Risk Estimation problem is a Supervised Learning → Classification problem, then we proposed the following two models:\n",
    "#### 1. Logistic Regression\n",
    "Logistic regression is a supervised machine learning algorithm used for classification tasks where the goal is to predict the probability that an instance belongs to a given class or not. \n",
    "\n",
    "#### 2. Random Forest\n",
    "A Random Forest Algorithm is a supervised machine learning algorithm that is extremely popular and is used for Classification and Regression problems in Machine Learning.\n",
    "\n",
    "## Dataset Explanation\n",
    "The dataset consists of 212,691 entries, with 17 columns, which can be divided into demographic, medical, and thyroid-specific factors. Here’s a breakdown of the dataset columns:\n",
    "\n",
    "**Patient_ID:** Unique identifier for each patient (integer).\n",
    "\n",
    "**Age:** Age of the patient (integer).\n",
    "\n",
    "**Gender:** Gender of the patient (categorical: male/female).\n",
    "\n",
    "**Country:** Country of residence (categorical).\n",
    "\n",
    "**Ethnicity:** Ethnic background of the patient (categorical).\n",
    "\n",
    "**Family_History:** Whether the patient has a family history of thyroid cancer (categorical: yes/no).\n",
    "\n",
    "**Radiation_Exposure:** Whether the patient has been exposed to radiation (categorical: yes/no).\n",
    "\n",
    "**Iodine_Deficiency:** Indicates iodine deficiency (categorical: yes/no).\n",
    "\n",
    "**Smoking:** Smoking history of the patient (categorical: yes/no).\n",
    "\n",
    "**Obesity:** Whether the patient is obese (categorical: yes/no).\n",
    "\n",
    "**Diabetes:** Whether the patient has diabetes (categorical: yes/no).\n",
    "\n",
    "**TSH_Level:** Level of thyroid-stimulating hormone in the blood (continuous).\n",
    "\n",
    "**T3_Level:** Level of Triiodothyronine hormone (continuous).\n",
    "\n",
    "**T4_Level:** Level of Thyroxine hormone (continuous).\n",
    "\n",
    "**Nodule_Size:** Size of the thyroid nodule (continuous).\n",
    "\n",
    "**Thyroid_Cancer_Risk:** Risk level of developing thyroid cancer (categorical: low/medium/high).\n",
    "\n",
    "**Diagnosis:** Diagnosis outcome (categorical: benign/malignant).\n",
    "\n",
    "**Data Characteristics:**\n",
    "\n",
    "**Categorical Variables:** Gender, Country, Ethnicity, Family_History, Radiation_Exposure, Iodine_Deficiency, Smoking, Obesity, Diabetes, Thyroid_Cancer_Risk, and Diagnosis.\n",
    "\n",
    "**Continuous Variables:** Age, TSH_Level, T3_Level, T4_Level, and Nodule_Size.\n",
    "\n",
    "**Target Variable:** Thyroid_Cancer_Risk, which indicates the risk level (low, medium, or high) of thyroid cancer. This is the primary output variable that we aim to predict.\n"
   ]
  },
  {
   "cell_type": "markdown",
   "id": "0687cad4-7ef5-4189-b095-1f4cbc4cc1d5",
   "metadata": {},
   "source": [
    "#### Installinig libraries"
   ]
  },
  {
   "cell_type": "markdown",
   "id": "515aed13-f3a8-4398-bdac-3d76de91075d",
   "metadata": {},
   "source": [
    "##### The following libraries are required to be installed for running this project\n",
    "pip install pandas  \n",
    "pip install seaborn  \n",
    "pip install scikit-learn  \n",
    "pip install mord  "
   ]
  },
  {
   "cell_type": "markdown",
   "id": "21789ddf-b1d9-46d5-bbb2-f80ab9de9da7",
   "metadata": {},
   "source": [
    "#### Importing libraries"
   ]
  },
  {
   "cell_type": "code",
   "execution_count": 199,
   "id": "2c1fd264-60a6-499f-a044-d4ecb80657c4",
   "metadata": {},
   "outputs": [],
   "source": [
    "import pandas as pd\n",
    "import seaborn as sns\n",
    "import matplotlib.pyplot as plt\n",
    "from sklearn.ensemble import RandomForestClassifier\n",
    "from sklearn.model_selection import train_test_split\n",
    "from sklearn.preprocessing import StandardScaler\n",
    "from mord import LogisticAT\n",
    "from sklearn.metrics import classification_report, confusion_matrix"
   ]
  },
  {
   "cell_type": "markdown",
   "id": "779523d6-dbb5-4cc3-9b2e-a81e74c775ca",
   "metadata": {},
   "source": [
    "### To render plots inside the notebook"
   ]
  },
  {
   "cell_type": "code",
   "execution_count": 200,
   "id": "ebe73372-2aef-4232-93c6-be4945882824",
   "metadata": {},
   "outputs": [],
   "source": [
    "%matplotlib inline"
   ]
  },
  {
   "cell_type": "markdown",
   "id": "728ef844-d612-4fef-a1d5-dc996024dd27",
   "metadata": {},
   "source": [
    "#### Loading data set"
   ]
  },
  {
   "cell_type": "code",
   "execution_count": 201,
   "id": "0dc189b0-8de3-4892-bf4e-800fb0c34768",
   "metadata": {},
   "outputs": [],
   "source": [
    "df = pd.read_csv('thyroid_cancer_risk_data.csv')"
   ]
  },
  {
   "cell_type": "markdown",
   "id": "afcd6964-aecd-471f-889c-07bb73dc7c65",
   "metadata": {},
   "source": [
    "#### Displaying 5 first records for better understanding of the dataset."
   ]
  },
  {
   "cell_type": "code",
   "execution_count": 202,
   "id": "edd30826-67f0-4f09-a01d-f5d93df161eb",
   "metadata": {},
   "outputs": [
    {
     "data": {
      "text/html": [
       "<div>\n",
       "<style scoped>\n",
       "    .dataframe tbody tr th:only-of-type {\n",
       "        vertical-align: middle;\n",
       "    }\n",
       "\n",
       "    .dataframe tbody tr th {\n",
       "        vertical-align: top;\n",
       "    }\n",
       "\n",
       "    .dataframe thead th {\n",
       "        text-align: right;\n",
       "    }\n",
       "</style>\n",
       "<table border=\"1\" class=\"dataframe\">\n",
       "  <thead>\n",
       "    <tr style=\"text-align: right;\">\n",
       "      <th></th>\n",
       "      <th>Patient_ID</th>\n",
       "      <th>Age</th>\n",
       "      <th>Gender</th>\n",
       "      <th>Country</th>\n",
       "      <th>Ethnicity</th>\n",
       "      <th>Family_History</th>\n",
       "      <th>Radiation_Exposure</th>\n",
       "      <th>Iodine_Deficiency</th>\n",
       "      <th>Smoking</th>\n",
       "      <th>Obesity</th>\n",
       "      <th>Diabetes</th>\n",
       "      <th>TSH_Level</th>\n",
       "      <th>T3_Level</th>\n",
       "      <th>T4_Level</th>\n",
       "      <th>Nodule_Size</th>\n",
       "      <th>Thyroid_Cancer_Risk</th>\n",
       "      <th>Diagnosis</th>\n",
       "    </tr>\n",
       "  </thead>\n",
       "  <tbody>\n",
       "    <tr>\n",
       "      <th>0</th>\n",
       "      <td>1</td>\n",
       "      <td>66</td>\n",
       "      <td>Male</td>\n",
       "      <td>Russia</td>\n",
       "      <td>Caucasian</td>\n",
       "      <td>No</td>\n",
       "      <td>Yes</td>\n",
       "      <td>No</td>\n",
       "      <td>No</td>\n",
       "      <td>No</td>\n",
       "      <td>No</td>\n",
       "      <td>9.37</td>\n",
       "      <td>1.67</td>\n",
       "      <td>6.16</td>\n",
       "      <td>1.08</td>\n",
       "      <td>Low</td>\n",
       "      <td>Benign</td>\n",
       "    </tr>\n",
       "    <tr>\n",
       "      <th>1</th>\n",
       "      <td>2</td>\n",
       "      <td>29</td>\n",
       "      <td>Male</td>\n",
       "      <td>Germany</td>\n",
       "      <td>Hispanic</td>\n",
       "      <td>No</td>\n",
       "      <td>Yes</td>\n",
       "      <td>No</td>\n",
       "      <td>No</td>\n",
       "      <td>No</td>\n",
       "      <td>No</td>\n",
       "      <td>1.83</td>\n",
       "      <td>1.73</td>\n",
       "      <td>10.54</td>\n",
       "      <td>4.05</td>\n",
       "      <td>Low</td>\n",
       "      <td>Benign</td>\n",
       "    </tr>\n",
       "    <tr>\n",
       "      <th>2</th>\n",
       "      <td>3</td>\n",
       "      <td>86</td>\n",
       "      <td>Male</td>\n",
       "      <td>Nigeria</td>\n",
       "      <td>Caucasian</td>\n",
       "      <td>No</td>\n",
       "      <td>No</td>\n",
       "      <td>No</td>\n",
       "      <td>No</td>\n",
       "      <td>No</td>\n",
       "      <td>No</td>\n",
       "      <td>6.26</td>\n",
       "      <td>2.59</td>\n",
       "      <td>10.57</td>\n",
       "      <td>4.61</td>\n",
       "      <td>Low</td>\n",
       "      <td>Benign</td>\n",
       "    </tr>\n",
       "    <tr>\n",
       "      <th>3</th>\n",
       "      <td>4</td>\n",
       "      <td>75</td>\n",
       "      <td>Female</td>\n",
       "      <td>India</td>\n",
       "      <td>Asian</td>\n",
       "      <td>No</td>\n",
       "      <td>No</td>\n",
       "      <td>No</td>\n",
       "      <td>No</td>\n",
       "      <td>No</td>\n",
       "      <td>No</td>\n",
       "      <td>4.10</td>\n",
       "      <td>2.62</td>\n",
       "      <td>11.04</td>\n",
       "      <td>2.46</td>\n",
       "      <td>Medium</td>\n",
       "      <td>Benign</td>\n",
       "    </tr>\n",
       "    <tr>\n",
       "      <th>4</th>\n",
       "      <td>5</td>\n",
       "      <td>35</td>\n",
       "      <td>Female</td>\n",
       "      <td>Germany</td>\n",
       "      <td>African</td>\n",
       "      <td>Yes</td>\n",
       "      <td>Yes</td>\n",
       "      <td>No</td>\n",
       "      <td>No</td>\n",
       "      <td>No</td>\n",
       "      <td>No</td>\n",
       "      <td>9.10</td>\n",
       "      <td>2.11</td>\n",
       "      <td>10.71</td>\n",
       "      <td>2.11</td>\n",
       "      <td>High</td>\n",
       "      <td>Benign</td>\n",
       "    </tr>\n",
       "  </tbody>\n",
       "</table>\n",
       "</div>"
      ],
      "text/plain": [
       "   Patient_ID  Age  Gender  Country  Ethnicity Family_History  \\\n",
       "0           1   66    Male   Russia  Caucasian             No   \n",
       "1           2   29    Male  Germany   Hispanic             No   \n",
       "2           3   86    Male  Nigeria  Caucasian             No   \n",
       "3           4   75  Female    India      Asian             No   \n",
       "4           5   35  Female  Germany    African            Yes   \n",
       "\n",
       "  Radiation_Exposure Iodine_Deficiency Smoking Obesity Diabetes  TSH_Level  \\\n",
       "0                Yes                No      No      No       No       9.37   \n",
       "1                Yes                No      No      No       No       1.83   \n",
       "2                 No                No      No      No       No       6.26   \n",
       "3                 No                No      No      No       No       4.10   \n",
       "4                Yes                No      No      No       No       9.10   \n",
       "\n",
       "   T3_Level  T4_Level  Nodule_Size Thyroid_Cancer_Risk Diagnosis  \n",
       "0      1.67      6.16         1.08                 Low    Benign  \n",
       "1      1.73     10.54         4.05                 Low    Benign  \n",
       "2      2.59     10.57         4.61                 Low    Benign  \n",
       "3      2.62     11.04         2.46              Medium    Benign  \n",
       "4      2.11     10.71         2.11                High    Benign  "
      ]
     },
     "execution_count": 202,
     "metadata": {},
     "output_type": "execute_result"
    }
   ],
   "source": [
    "df.head(5)"
   ]
  },
  {
   "cell_type": "markdown",
   "id": "530bf987-2cf3-48a4-a3f0-100f10632051",
   "metadata": {},
   "source": [
    "## Data Preprocessing:\n",
    "**1. Duplicate Records:** The dataset does not have any duplicate records, but because the aim of this project is to learn how to do data analysis that's why I am checking for the duplicate records and deleting if there are any.\n",
    "\n",
    "**2. Missing Values:** The dataset have no missing values, but still looking for missing values and handling them using Median, Mean, Mode, or even removing the record.\n",
    "   \n",
    "**3. Wrong Data:** Handling wrong data by replacing with correct data or removing records which have wrong data.\n",
    "\n",
    "**4. Features Importance Analysis:** Finding the less important feature and dropping them in order to improve model performance and efficiency.\n",
    "\n",
    "**5. Encoding Categorical** Features: Features such as Gender, Family_History, Radiation_Exposure, etc., will be converted into numerical representations.\n",
    "\n",
    "**6. Scaling Features:** Continuous features like TSH_Level, T3_Level, etc., will need to be scaled for some models to perform optimally."
   ]
  },
  {
   "cell_type": "markdown",
   "id": "b9385df5-dc55-4897-8f89-1c60245d3bf7",
   "metadata": {},
   "source": [
    "### 1. Duplicate Records\n",
    "check for duplicated records if there are any then remove them"
   ]
  },
  {
   "cell_type": "code",
   "execution_count": 203,
   "id": "cca59f91-3ad1-4de4-ae05-70f2c96d3334",
   "metadata": {},
   "outputs": [
    {
     "name": "stdout",
     "output_type": "stream",
     "text": [
      "There are no duplicate records in the dataset.\n"
     ]
    }
   ],
   "source": [
    "duplicates = df[df.duplicated()]\n",
    "\n",
    "if duplicates.empty:\n",
    "    print(\"There are no duplicate records in the dataset.\")\n",
    "else:\n",
    "    df.drop_duplicates(inplace=True)\n",
    "    count = len(duplicates)\n",
    "    if count == 1:\n",
    "        print(\"One duplicate record was removed from the dataset.\")\n",
    "    else:\n",
    "        print(f\"{count} duplicate records were removed from the dataset.\")"
   ]
  },
  {
   "cell_type": "markdown",
   "id": "e8aa1c02-e234-42ac-82c0-e8eb9a8616b0",
   "metadata": {},
   "source": [
    "### 2. Missing Values\n",
    "\n",
    "#### a. Replace Missing Values\n",
    "    \n",
    "##### Median: Replace missing Age values with median if there are any missing values for Age.\n"
   ]
  },
  {
   "cell_type": "code",
   "execution_count": 204,
   "id": "39014db5-6f5f-4478-bc38-4c2cd09b12f5",
   "metadata": {},
   "outputs": [
    {
     "name": "stdout",
     "output_type": "stream",
     "text": [
      "Median for Age attribute is: 52\n",
      "0 missing 'Age' values were filled with the median.\n"
     ]
    }
   ],
   "source": [
    "medianAge = round(df[\"Age\"].median())\n",
    "\n",
    "df.fillna({\"Age\": medianAge}, inplace=True)\n",
    "print(f\"Median for Age attribute is: {medianAge}\")\n",
    "\n",
    "missing_count = df[\"Age\"].isna().sum()\n",
    "print(f\"{missing_count} missing 'Age' values were filled with the median.\")"
   ]
  },
  {
   "cell_type": "markdown",
   "id": "2a1c3d72-a08a-42ef-9a91-50e5f75ddf85",
   "metadata": {},
   "source": [
    "##### Mean: If there are any empty cells for Nodule_Size attribute, then replace it with the mean."
   ]
  },
  {
   "cell_type": "code",
   "execution_count": 205,
   "id": "29347690-2e1a-434a-97b9-6eb2a10c7196",
   "metadata": {},
   "outputs": [
    {
     "name": "stdout",
     "output_type": "stream",
     "text": [
      "Mean for Nodule_Size attribute is: 2.5\n",
      "0 missing 'Nodule_Size' values were filled with the mean.\n"
     ]
    }
   ],
   "source": [
    "meanSize = round(df[\"Nodule_Size\"].mean(), 2)\n",
    "\n",
    "df.fillna({\"Nodule_Size\": meanSize}, inplace=True)\n",
    "print(f\"Mean for Nodule_Size attribute is: {meanSize}\")\n",
    "\n",
    "missing_count = df[\"Nodule_Size\"].isna().sum()\n",
    "print(f\"{missing_count} missing 'Nodule_Size' values were filled with the mean.\")"
   ]
  },
  {
   "cell_type": "markdown",
   "id": "4e5d849d-bbe8-4f52-9424-f56e58fcaf1b",
   "metadata": {},
   "source": [
    "##### Mode: Calculate the MODE for Country, and replace any empty values of the Country column with it"
   ]
  },
  {
   "cell_type": "code",
   "execution_count": 206,
   "id": "05213486-34a2-4a63-b416-c98cab523354",
   "metadata": {},
   "outputs": [
    {
     "name": "stdout",
     "output_type": "stream",
     "text": [
      "Mode for Country attribute is: India\n",
      "0 missing 'Country' values were filled with the mode.\n"
     ]
    }
   ],
   "source": [
    "modeForCountry = df[\"Country\"].mode()[0]\n",
    "\n",
    "df.fillna({\"Country\": modeForCountry}, inplace=True)\n",
    "print(f\"Mode for Country attribute is: {modeForCountry}\")\n",
    "\n",
    "missing_count = df[\"Country\"].isna().sum()\n",
    "print(f\"{missing_count} missing 'Country' values were filled with the mode.\")"
   ]
  },
  {
   "cell_type": "markdown",
   "id": "15a86640-5484-49a3-a223-aa150a3b1c06",
   "metadata": {},
   "source": [
    "#### b. Delete entire record if any Diagnosis values are missing"
   ]
  },
  {
   "cell_type": "code",
   "execution_count": 207,
   "id": "3427de0b-adbb-4ac1-910a-f829eede10b2",
   "metadata": {},
   "outputs": [
    {
     "name": "stdout",
     "output_type": "stream",
     "text": [
      "0 records removed because of missing 'Diagnosis' values.\n"
     ]
    }
   ],
   "source": [
    "df.dropna(subset=['Diagnosis'], inplace = True)\n",
    "\n",
    "missing_count = df[\"Diagnosis\"].isna().sum()\n",
    "print(f\"{missing_count} records removed because of missing 'Diagnosis' values.\")"
   ]
  },
  {
   "cell_type": "markdown",
   "id": "3212b5f9-2d96-4b9f-bc49-00d009f088d0",
   "metadata": {},
   "source": [
    "### 3. Wrong Data\n",
    " #### a. Replace with correct data"
   ]
  },
  {
   "cell_type": "code",
   "execution_count": 208,
   "id": "43016f83-01b2-4541-b2ab-580badfb6c01",
   "metadata": {},
   "outputs": [],
   "source": [
    "for x in df.index:\n",
    "  if df.loc[x, \"Age\"] > 100:\n",
    "    df.loc[x, \"Age\"] = 100"
   ]
  },
  {
   "cell_type": "markdown",
   "id": "fa0cd325-5077-4464-8c67-e7993ca78eca",
   "metadata": {},
   "source": [
    "#### b. Remove record which has wrong data"
   ]
  },
  {
   "cell_type": "code",
   "execution_count": 209,
   "id": "5bc8b7e8-df0b-428c-8362-56a898a37465",
   "metadata": {},
   "outputs": [],
   "source": [
    "for x in df.index:\n",
    "  if df.loc[x, \"Nodule_Size\"] > 20:\n",
    "    df.drop(x, inplace = True)"
   ]
  },
  {
   "cell_type": "markdown",
   "id": "a0130263-97dc-41e6-bf8f-47b0857c84bc",
   "metadata": {},
   "source": [
    "## 4. Features Importance Analysis"
   ]
  },
  {
   "cell_type": "markdown",
   "id": "278fe740-4159-4847-bb65-a620ebeccc51",
   "metadata": {},
   "source": [
    "##### Using Random Forest Feature Importance"
   ]
  },
  {
   "cell_type": "code",
   "execution_count": 210,
   "id": "0c87c3be-0826-4568-86d8-a0e32f29387c",
   "metadata": {},
   "outputs": [
    {
     "data": {
      "image/png": "[encoded data removed]",
      "text/plain": [
       "<Figure size 1000x600 with 1 Axes>"
      ]
     },
     "metadata": {},
     "output_type": "display_data"
    }
   ],
   "source": [
    "# Re-train Random Forest if needed\n",
    "rf = RandomForestClassifier(n_estimators=100, random_state=23)\n",
    "rf.fit(X_train, y_train)\n",
    "\n",
    "# Feature importances\n",
    "feature_names = X.columns\n",
    "importances = pd.Series(rf.feature_importances_, index=feature_names)\n",
    "\n",
    "# Group by prefix (e.g., 'Country_', 'Gender_', etc.)\n",
    "grouped_importances = importances.groupby(lambda x: x.split('_')[0]).sum()\n",
    "\n",
    "# Sort and plot\n",
    "grouped_importances = grouped_importances.sort_values(ascending=True)\n",
    "\n",
    "plt.figure(figsize=(10, 6))\n",
    "grouped_importances.tail(15).plot(kind='barh')\n",
    "plt.title(\"Grouped Feature Importances (Random Forest)\")\n",
    "plt.xlabel(\"Total Importance Score\")\n",
    "plt.tight_layout()\n",
    "plt.show()"
   ]
  },
  {
   "cell_type": "markdown",
   "id": "670b7fb2-7547-4fc6-b957-1f6a6a9a0489",
   "metadata": {},
   "source": [
    "#### Deleting less important features"
   ]
  },
  {
   "cell_type": "code",
   "execution_count": 211,
   "id": "bfa61ebb-24b0-4f33-8f8f-31eb139681d8",
   "metadata": {},
   "outputs": [],
   "source": [
    "# Deleting Patient_ID column, because it is not needed, has no affect in the modeling\n",
    "df = df.drop('Patient_ID', axis=1)\n",
    "# Drop diagnosis (often overlaps with target or comes after diagnosis). Using a confirmed diagnosis to predict risk (which should be predicted earlier) would be logically and clinically invalid.\n",
    "df = df.drop('Diagnosis', axis=1)\n",
    "#Deleting less important features for improving the performance and effeciency of the model\n",
    "df = df.drop('Smoking', axis=1)\n",
    "df = df.drop('Diabetes', axis=1)\n",
    "df = df.drop('Obesity', axis=1)\n",
    "df = df.drop('Gender', axis=1)"
   ]
  },
  {
   "cell_type": "markdown",
   "id": "8502fa9f-96b3-431e-8f06-21efaa54f57b",
   "metadata": {},
   "source": [
    "### 5. Encoding Categorical Features"
   ]
  },
  {
   "cell_type": "code",
   "execution_count": 212,
   "id": "518a6a34-6742-4644-92ce-1d919be3ef0a",
   "metadata": {},
   "outputs": [],
   "source": [
    "# Dividing our dataset to target feature and input features\n",
    "y = df['Thyroid_Cancer_Risk']\n",
    "X = df.drop(['Thyroid_Cancer_Risk'], axis=1)\n",
    "\n",
    "# Changing Low, Medium, and High to 0, 1, and 2\n",
    "risk_mapping = {'Low': 0, 'Medium': 1, 'High': 2}\n",
    "y = y.map(risk_mapping)\n",
    "\n",
    "# One-hot encode categorical variables, Nominal (unordered)\n",
    "X = pd.get_dummies(X, drop_first=True)"
   ]
  },
  {
   "cell_type": "markdown",
   "id": "0606a657-2416-4a29-a4c7-2e22e31da1f1",
   "metadata": {},
   "source": [
    "### 6. Scaling Features"
   ]
  },
  {
   "cell_type": "code",
   "execution_count": 213,
   "id": "64578e7b-6802-4378-91b9-40ba7eceedb5",
   "metadata": {},
   "outputs": [],
   "source": [
    "# Scaling our features (transforming our data so that the values of each feature (column) have a similar range or distribution)\n",
    "scaler = StandardScaler()\n",
    "X_scaled = scaler.fit_transform(X)"
   ]
  },
  {
   "cell_type": "markdown",
   "id": "e0d1f95e-336d-4f29-9162-5ff198ad7107",
   "metadata": {},
   "source": [
    "#### Training Set & Test Set"
   ]
  },
  {
   "cell_type": "code",
   "execution_count": 214,
   "id": "56d6fe60-b5b6-4cdb-91e4-e943d875955a",
   "metadata": {},
   "outputs": [],
   "source": [
    "# Splitting the dataset into train and test datasets, percentage of 80% + 20% and shuffling\n",
    "X_train, X_test, y_train, y_test = train_test_split(X_scaled, y, test_size=0.2, random_state=23)"
   ]
  },
  {
   "cell_type": "markdown",
   "id": "c6796876-dcd5-48de-bf49-016d3f11fbfb",
   "metadata": {},
   "source": [
    "## 1. Logistic Regression Model"
   ]
  },
  {
   "cell_type": "code",
   "execution_count": 215,
   "id": "0b3970d1-ed5d-4bb6-87ad-b16e137732e3",
   "metadata": {},
   "outputs": [
    {
     "name": "stdout",
     "output_type": "stream",
     "text": [
      "Classification Report:\n",
      "              precision    recall  f1-score   support\n",
      "\n",
      "         Low       0.60      0.69      0.64     21770\n",
      "      Medium       0.27      0.30      0.29     14457\n",
      "        High       1.00      0.19      0.32      6312\n",
      "\n",
      "    accuracy                           0.49     42539\n",
      "   macro avg       0.62      0.39      0.41     42539\n",
      "weighted avg       0.55      0.49      0.47     42539\n",
      "\n"
     ]
    }
   ],
   "source": [
    "# Train Ordinal Logistic Regression\n",
    "model = LogisticAT(alpha=1.0)\n",
    "model.fit(X_train, y_train)\n",
    "\n",
    "# Predict\n",
    "y_pred = model.predict(X_test)\n",
    "\n",
    "# Evaluation\n",
    "print(\"Classification Report for Logistic Regression Model:\")\n",
    "print(classification_report(y_test, y_pred, target_names=['Low', 'Medium', 'High']))"
   ]
  },
  {
   "cell_type": "markdown",
   "id": "b0d5ca93-2089-4477-80bd-651663565332",
   "metadata": {},
   "source": [
    "### Confusion Matrix for Logistic Regression Model"
   ]
  },
  {
   "cell_type": "code",
   "execution_count": 216,
   "id": "140c9321-6da5-4192-82e0-d75afc2d6014",
   "metadata": {},
   "outputs": [
    {
     "data": {
      "image/png": "[encoded data removed]",
      "text/plain": [
       "<Figure size 600x400 with 2 Axes>"
      ]
     },
     "metadata": {},
     "output_type": "display_data"
    }
   ],
   "source": [
    "# Creating confusion matrix\n",
    "cm = confusion_matrix(y_test, y_pred)\n",
    "\n",
    "# Plotting it\n",
    "plt.figure(figsize=(6, 4))\n",
    "sns.heatmap(cm, annot=True, fmt='d', cmap='Purples',\n",
    "            xticklabels=['Low', 'Medium', 'High'],\n",
    "            yticklabels=['Low', 'Medium', 'High'])\n",
    "plt.xlabel('Predicted')\n",
    "plt.ylabel('Actual')\n",
    "plt.title('Confusion Matrix - Ordinal Logistic Regression')\n",
    "plt.tight_layout()\n",
    "plt.show()"
   ]
  },
  {
   "cell_type": "markdown",
   "id": "2b3fc4c9-ee26-4235-8ccf-81925bfcacdf",
   "metadata": {},
   "source": [
    "## 2. Random Forest Model"
   ]
  },
  {
   "cell_type": "code",
   "execution_count": 217,
   "id": "24700f91-6dfd-4b60-bc74-69b8d3062665",
   "metadata": {},
   "outputs": [
    {
     "name": "stdout",
     "output_type": "stream",
     "text": [
      "Classification Report:\n",
      "              precision    recall  f1-score   support\n",
      "\n",
      "         Low       0.60      0.85      0.70     21770\n",
      "      Medium       0.39      0.15      0.22     14457\n",
      "        High       1.00      1.00      1.00      6312\n",
      "\n",
      "    accuracy                           0.63     42539\n",
      "   macro avg       0.66      0.67      0.64     42539\n",
      "weighted avg       0.59      0.63      0.58     42539\n",
      "\n"
     ]
    }
   ],
   "source": [
    "# Train the Random Forest model\n",
    "rf = RandomForestClassifier(n_estimators=100, random_state=23)\n",
    "rf.fit(X_train, y_train)\n",
    "\n",
    "# Predict on test set\n",
    "y_pred_rf = rf.predict(X_test)\n",
    "\n",
    "# Classification report\n",
    "print(\"Classification Report for Random Forest Model:\")\n",
    "print(classification_report(y_test, y_pred_rf, target_names=['Low', 'Medium', 'High']))"
   ]
  },
  {
   "cell_type": "markdown",
   "id": "b420eac8-12dc-47ae-8613-dfabba1c2982",
   "metadata": {},
   "source": [
    "### Confusion Matrix for Random Forest Model"
   ]
  },
  {
   "cell_type": "code",
   "execution_count": 218,
   "id": "44b92a33-4713-40d0-bc77-5538936f72a1",
   "metadata": {},
   "outputs": [
    {
     "data": {
      "image/png": "[encoded data removed]",
      "text/plain": [
       "<Figure size 600x400 with 2 Axes>"
      ]
     },
     "metadata": {},
     "output_type": "display_data"
    }
   ],
   "source": [
    "# Creating Confusion Matrix\n",
    "cm = confusion_matrix(y_test, y_pred_rf)\n",
    "# Plotting it\n",
    "plt.figure(figsize=(6, 4))\n",
    "sns.heatmap(cm, annot=True, fmt='d', cmap='Blues',\n",
    "            xticklabels=['Low', 'Medium', 'High'],\n",
    "            yticklabels=['Low', 'Medium', 'High'])\n",
    "plt.xlabel(\"Predicted\")\n",
    "plt.ylabel(\"Actual\")\n",
    "plt.title(\"Confusion Matrix - Random Forest Model\")\n",
    "plt.tight_layout()\n",
    "plt.show()"
   ]
  }
 ],
 "metadata": {
  "kernelspec": {
   "display_name": "Python 3 (ipykernel)",
   "language": "python",
   "name": "python3"
  },
  "language_info": {
   "codemirror_mode": {
    "name": "ipython",
    "version": 3
   },
   "file_extension": ".py",
   "mimetype": "text/x-python",
   "name": "python",
   "nbconvert_exporter": "python",
   "pygments_lexer": "ipython3",
   "version": "3.12.0"
  }
 },
 "nbformat": 4,
 "nbformat_minor": 5
}
